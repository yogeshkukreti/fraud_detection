{
  "nbformat": 4,
  "nbformat_minor": 0,
  "metadata": {
    "colab": {
      "provenance": [],
      "authorship_tag": "ABX9TyMPSrZ0kuwQ4JzVY2F5APe4",
      "include_colab_link": true
    },
    "kernelspec": {
      "name": "python3",
      "display_name": "Python 3"
    },
    "language_info": {
      "name": "python"
    }
  },
  "cells": [
    {
      "cell_type": "markdown",
      "metadata": {
        "id": "view-in-github",
        "colab_type": "text"
      },
      "source": [
        "<a href=\"https://colab.research.google.com/github/yogeshkukreti/fraud_detection/blob/main/Prompt_Design_in_Vertex_AI.ipynb\" target=\"_parent\"><img src=\"https://colab.research.google.com/assets/colab-badge.svg\" alt=\"Open In Colab\"/></a>"
      ]
    },
    {
      "cell_type": "code",
      "execution_count": 1,
      "metadata": {
        "id": "0nXNwh5ntKsk"
      },
      "outputs": [],
      "source": [
        "import sys\n",
        "\n",
        "if \"google.colab\" in sys.modules:\n",
        "    from google.colab import auth\n",
        "\n",
        "    auth.authenticate_user()"
      ]
    },
    {
      "cell_type": "code",
      "source": [
        "PROJECT_ID = \"qwiklabs-gcp-03-18141b05e9fb\"  # @param {type:\"string\"}\n",
        "LOCATION = \"us-west1\"  # @param {type:\"string\"}"
      ],
      "metadata": {
        "id": "eR8Kb9xJtrHx"
      },
      "execution_count": 2,
      "outputs": []
    },
    {
      "cell_type": "code",
      "source": [
        "import vertexai\n",
        "vertexai.init(project=PROJECT_ID, location=LOCATION)"
      ],
      "metadata": {
        "id": "TK90bd7etylJ"
      },
      "execution_count": 3,
      "outputs": []
    },
    {
      "cell_type": "code",
      "source": [
        "from vertexai.generative_models import GenerationConfig, GenerativeModel\n",
        "import time"
      ],
      "metadata": {
        "id": "tP8vzLNOt8xa"
      },
      "execution_count": 4,
      "outputs": []
    },
    {
      "cell_type": "code",
      "source": [
        "import time\n",
        "\n",
        "def call_gemini(prompt, generation_config=GenerationConfig(temperature=1.0)):\n",
        "    wait_time = 1\n",
        "    while True:\n",
        "        try:\n",
        "            response = GenerativeModel.generate_content(prompt, generation_config=generation_config).text\n",
        "            return response\n",
        "            break  # Exit the loop if successful\n",
        "        except Exception as e:  # Replace with the actual exception type\n",
        "            time.sleep(wait_time)\n",
        "            wait_time *= 2  # Double the wait time"
      ],
      "metadata": {
        "id": "KN-ymnbQuRue"
      },
      "execution_count": 12,
      "outputs": []
    },
    {
      "cell_type": "code",
      "source": [
        "def send_message_gemini(model, prompt):\n",
        "    wait_time = 1\n",
        "    while True:\n",
        "        try:\n",
        "            response = model.send_message(prompt).text\n",
        "            return response\n",
        "            break  # Exit the loop if successful\n",
        "        except Exception as e:  # Replace with the actual exception type\n",
        "            time.sleep(wait_time)\n",
        "            wait_time *= 2  # Double the wait time"
      ],
      "metadata": {
        "id": "X-5V_0fmuZHs"
      },
      "execution_count": 13,
      "outputs": []
    },
    {
      "cell_type": "code",
      "source": [
        "prompt = \"What do you think could be a good name for a flower shop that specializes in selling bouquets of dried flowers more than fresh flowers?\""
      ],
      "metadata": {
        "id": "ymaaW4IjwTpG"
      },
      "execution_count": 14,
      "outputs": []
    },
    {
      "cell_type": "code",
      "source": [
        "print(call_gemini(prompt))"
      ],
      "metadata": {
        "id": "UOEuheOawVUH"
      },
      "execution_count": null,
      "outputs": []
    }
  ]
}